{
 "cells": [
  {
   "cell_type": "code",
   "execution_count": 14,
   "metadata": {},
   "outputs": [
    {
     "name": "stdout",
     "output_type": "stream",
     "text": [
      "hello\n"
     ]
    }
   ],
   "source": [
    "print(\"hello\")"
   ]
  },
  {
   "cell_type": "code",
   "execution_count": 15,
   "metadata": {},
   "outputs": [
    {
     "name": "stdout",
     "output_type": "stream",
     "text": [
      "hello\n"
     ]
    }
   ],
   "source": [
    "print(\"hello\")\n",
    "#single line comment\n"
   ]
  },
  {
   "cell_type": "code",
   "execution_count": 2,
   "metadata": {},
   "outputs": [
    {
     "name": "stderr",
     "output_type": "stream",
     "text": [
      "\n",
      "    Error 305 for command:\n",
      "        close \"D:\\song.mp3\"\n",
      "    Cannot specify extra characters after a string enclosed in quotation marks.\n",
      "Failed to close the file: \"D:\\song.mp3\"\n"
     ]
    }
   ],
   "source": [
    "from playsound import playsound\n",
    "playsound(\"D:\\\\song.mp3\")    "
   ]
  },
  {
   "cell_type": "code",
   "execution_count": 17,
   "metadata": {},
   "outputs": [
    {
     "name": "stdout",
     "output_type": "stream",
     "text": [
      "<class 'str'>\n",
      "<class 'int'>\n",
      "<class 'float'>\n",
      "<class 'bool'>\n",
      "<class 'bool'>\n",
      "<class 'NoneType'>\n"
     ]
    }
   ],
   "source": [
    "a = \"deep\"\n",
    "b = 80\n",
    "c = 9.1\n",
    "d = True\n",
    "e = False\n",
    "f = None\n",
    "#print the type of variables\n",
    "print(type(a))\n",
    "print(type(b))\n",
    "print(type(c))\n",
    "print(type(d))\n",
    "print(type(e))\n",
    "print(type(f))"
   ]
  },
  {
   "cell_type": "code",
   "execution_count": 18,
   "metadata": {},
   "outputs": [
    {
     "name": "stdout",
     "output_type": "stream",
     "text": [
      "arothmetic operators\n",
      "value of 1+2 3\n",
      "value of 1-2 -1\n",
      "value of 1*2 2\n",
      "value of 2%12 2\n"
     ]
    }
   ],
   "source": [
    "print('arothmetic operators')\n",
    "print(\"value of 1+2\",1+2)\n",
    "print(\"value of 1-2\",1-2)\n",
    "print(\"value of 1*2\",1*2)\n",
    "print(\"value of 2%12\",2%12)"
   ]
  },
  {
   "cell_type": "code",
   "execution_count": 19,
   "metadata": {},
   "outputs": [
    {
     "name": "stdout",
     "output_type": "stream",
     "text": [
      "assignment opreators\n",
      "15\n"
     ]
    }
   ],
   "source": [
    "print('assignment opreators')\n",
    "A = 12\n",
    "A += 3    # A -= data , A *=data , A %=data \n",
    "print(A)"
   ]
  },
  {
   "cell_type": "code",
   "execution_count": 20,
   "metadata": {},
   "outputs": [
    {
     "name": "stdout",
     "output_type": "stream",
     "text": [
      "comparison operators\n",
      "False\n",
      "True\n",
      "False\n",
      "False\n",
      "True\n"
     ]
    }
   ],
   "source": [
    "print('comparison operators')   #booleans(true&false) reaton karta he\n",
    "a = (4>5)\n",
    "b = (4<=5)\n",
    "c = (3>=4)\n",
    "d = (3==4)      \n",
    "e = (3!=2)    # ! sachbatt darsata he\n",
    "print(a)      \n",
    "print(b)\n",
    "print(c)\n",
    "print(d)\n",
    "print(e)"
   ]
  },
  {
   "cell_type": "code",
   "execution_count": 21,
   "metadata": {},
   "outputs": [
    {
     "name": "stdout",
     "output_type": "stream",
     "text": [
      "logical operators\n",
      "the value of bool1 and bool2 is False\n",
      "the value of bool1 or bool2 is True\n",
      "the value of bool1 not bool2 is True\n"
     ]
    }
   ],
   "source": [
    "print(\"logical operators\")\n",
    "bool1 = True\n",
    "bool2 = False\n",
    "print(\"the value of bool1 and bool2 is\",(bool1 and bool2))  #bane velue sam hase to true print thse naytar false print thse\n",
    "print(\"the value of bool1 or bool2 is\",(bool1 or bool2))    #any one value are true so print true\n",
    "print(\"the value of bool1 not bool2 is\",(not bool2))        #true ko false kar dega false ko true kar dega"
   ]
  },
  {
   "cell_type": "code",
   "execution_count": 22,
   "metadata": {},
   "outputs": [
    {
     "name": "stdout",
     "output_type": "stream",
     "text": [
      "123 123 123.0\n"
     ]
    }
   ],
   "source": [
    "a= '123'   # \" \" ma hovathi strint value che\n",
    "\n",
    "x=int(a)   # strint converd to integer\n",
    "y=str(a)   \n",
    "z=float(a)  # sting value converd to float\n",
    "print((x),(y),(z))\n"
   ]
  },
  {
   "cell_type": "code",
   "execution_count": 23,
   "metadata": {},
   "outputs": [],
   "source": [
    "a = input(\"enter the first number\")    #input alwas\n",
    "b = input(\"enter the second number\")   #string ma value le  \n",
    "a = int(a)\n",
    "b = int(b)\n",
    "avg = (a+b)\n",
    "print(avg)"
   ]
  },
  {
   "cell_type": "code",
   "execution_count": null,
   "metadata": {},
   "outputs": [
    {
     "name": "stdout",
     "output_type": "stream",
     "text": [
      "6.0\n"
     ]
    }
   ],
   "source": [
    "a = input(\"enter the fiest number\")\n",
    "a = int(a)\n",
    "avg = (a)/2\n",
    "print(avg)"
   ]
  },
  {
   "cell_type": "code",
   "execution_count": null,
   "metadata": {},
   "outputs": [
    {
     "name": "stdout",
     "output_type": "stream",
     "text": [
      "d\n",
      "e\n"
     ]
    }
   ],
   "source": [
    "name = \"deep\"\n",
    "print(name[0])  #print the nmae of length\n",
    "print(name[1])"
   ]
  },
  {
   "cell_type": "code",
   "execution_count": null,
   "metadata": {},
   "outputs": [
    {
     "name": "stdout",
     "output_type": "stream",
     "text": [
      "det\n",
      "det\n",
      "detroja\n"
     ]
    }
   ],
   "source": [
    "name =\"detroja\"\n",
    "print(name[0:3])\n",
    "print(name[:3]) # is same as name[0:3]\n",
    "print(name[0:]) #or name[0:7]"
   ]
  },
  {
   "cell_type": "code",
   "execution_count": null,
   "metadata": {},
   "outputs": [
    {
     "name": "stdout",
     "output_type": "stream",
     "text": [
      "ate\n"
     ]
    }
   ],
   "source": [
    "#negative indices\n",
    "name=\"patel\"\n",
    "print(name[-4:-1])"
   ]
  },
  {
   "cell_type": "code",
   "execution_count": null,
   "metadata": {},
   "outputs": [
    {
     "name": "stdout",
     "output_type": "stream",
     "text": [
      "dedtoa\n",
      "dra\n"
     ]
    }
   ],
   "source": [
    "#slicing with skip value\n",
    "name='deepdetroja'\n",
    "print(name[0:11:2]) #0:11 index ma :2 inedx muki print thse\n",
    "print(name[4:11:3])"
   ]
  },
  {
   "cell_type": "code",
   "execution_count": null,
   "metadata": {},
   "outputs": [
    {
     "name": "stdout",
     "output_type": "stream",
     "text": [
      "i am\n",
      "31\n"
     ]
    }
   ],
   "source": [
    "story = \"i am deep and i learn to python\"\n",
    "print(story[0:4])"
   ]
  },
  {
   "cell_type": "code",
   "execution_count": null,
   "metadata": {},
   "outputs": [
    {
     "name": "stdout",
     "output_type": "stream",
     "text": [
      "37\n",
      "\n"
     ]
    }
   ],
   "source": [
    "story = \"no have a permanent all are temporary\"\n",
    "print (len(story)) #this function returns the lenth of the string\n",
    "#print()"
   ]
  },
  {
   "cell_type": "code",
   "execution_count": null,
   "metadata": {},
   "outputs": [
    {
     "name": "stdout",
     "output_type": "stream",
     "text": [
      "False\n",
      "True\n"
     ]
    }
   ],
   "source": [
    "story = \"look me in the eyes and tell me what you see\"\n",
    "print(story.endswith(\"perfect paradise tearin at the seams\")) # this function returns...\n",
    "print(story.endswith(\"what you see\"))                         #...true and false"
   ]
  },
  {
   "cell_type": "code",
   "execution_count": null,
   "metadata": {},
   "outputs": [
    {
     "name": "stdout",
     "output_type": "stream",
     "text": [
      "2\n",
      "2\n"
     ]
    }
   ],
   "source": [
    "story = \"end the end i am win\"\n",
    "print(story.count('end'))\n",
    "print(story.count('i'))"
   ]
  },
  {
   "cell_type": "code",
   "execution_count": null,
   "metadata": {},
   "outputs": [
    {
     "name": "stdout",
     "output_type": "stream",
     "text": [
      "This function capitalizes the first character of a given string\n"
     ]
    }
   ],
   "source": [
    "story ='this function capitalizes the first character of a given string'\n",
    "print(story.capitalize())"
   ]
  },
  {
   "cell_type": "code",
   "execution_count": null,
   "metadata": {},
   "outputs": [
    {
     "name": "stdout",
     "output_type": "stream",
     "text": [
      "37\n"
     ]
    }
   ],
   "source": [
    "story ='find a word and returns the index of first occurence of the word the string'\n",
    "print(story.find('first'))"
   ]
  },
  {
   "cell_type": "code",
   "execution_count": null,
   "metadata": {},
   "outputs": [
    {
     "name": "stdout",
     "output_type": "stream",
     "text": [
      "replace the old word with the new word in the entime string\n"
     ]
    }
   ],
   "source": [
    "story = 'replyace the old word with the new word in the entime string'\n",
    "print(story.replace('replyace','replace'))"
   ]
  },
  {
   "cell_type": "code",
   "execution_count": null,
   "metadata": {},
   "outputs": [
    {
     "name": "stdout",
     "output_type": "stream",
     "text": [
      "they have a only one rusl in fucking jungle \n",
      "when lion hungry he\t eat\n"
     ]
    }
   ],
   "source": [
    "story = 'they have a only one rusl in fucking jungle \\nwhen lion hungry he\\t eat'\n",
    "print(story) #escape sequence characters(\\n,\\t,\\',\\\\,etc..)\\"
   ]
  },
  {
   "cell_type": "code",
   "execution_count": null,
   "metadata": {},
   "outputs": [
    {
     "name": "stdout",
     "output_type": "stream",
     "text": [
      "Good Mornig,deep\n"
     ]
    }
   ],
   "source": [
    "name=input(\"enter your name\")\n",
    "print('Good Mornig,'+name)"
   ]
  },
  {
   "cell_type": "code",
   "execution_count": null,
   "metadata": {},
   "outputs": [
    {
     "name": "stdout",
     "output_type": "stream",
     "text": [
      "thank you deep\n",
      "to atent our seminar\n",
      "at 12 jun\n"
     ]
    }
   ],
   "source": [
    "letter = '''thank you name\n",
    "to atent our seminar\n",
    "at date'''\n",
    "name=input('what your name:')\n",
    "date=input('what date you attent the seminar')\n",
    "letter=letter.replace('name',name)\n",
    "letter=letter.replace('date',date)\n",
    "print(letter)\n"
   ]
  },
  {
   "cell_type": "code",
   "execution_count": null,
   "metadata": {},
   "outputs": [
    {
     "name": "stdout",
     "output_type": "stream",
     "text": [
      "wellcome to  gumanji\n"
     ]
    }
   ],
   "source": [
    "string='wellcome to   gumanji'\n",
    "doublepaces =string.replace('  ',' ')\n",
    "print(doublepaces)"
   ]
  },
  {
   "cell_type": "code",
   "execution_count": null,
   "metadata": {},
   "outputs": [
    {
     "name": "stdout",
     "output_type": "stream",
     "text": [
      "[1, 2, 3, 4, 5]\n",
      "1\n"
     ]
    }
   ],
   "source": [
    "a=[1,2,3,4,5]\n",
    "print(a)\n",
    "print(a[0]) #access using index "
   ]
  },
  {
   "cell_type": "code",
   "execution_count": null,
   "metadata": {},
   "outputs": [
    {
     "name": "stdout",
     "output_type": "stream",
     "text": [
      "[1, 2, 3, 4, 5]\n"
     ]
    }
   ],
   "source": [
    "a=[0,2,3,4,5]\n",
    "a[0]=1         #change the value of list\n",
    "print(a)"
   ]
  },
  {
   "cell_type": "code",
   "execution_count": null,
   "metadata": {},
   "outputs": [
    {
     "name": "stdout",
     "output_type": "stream",
     "text": [
      "[1, 2, 4, 6, 9]\n"
     ]
    }
   ],
   "source": [
    "list=[2,1,9,6,4]\n",
    "list.sort()   #updates the list to line\n",
    "print(list)"
   ]
  },
  {
   "cell_type": "code",
   "execution_count": null,
   "metadata": {},
   "outputs": [
    {
     "name": "stdout",
     "output_type": "stream",
     "text": [
      "[77, 98, 65, 34, 32]\n"
     ]
    }
   ],
   "source": [
    "list=[32,34,65,98,77]\n",
    "list.reverse()   #revers the list\n",
    "print(list)"
   ]
  },
  {
   "cell_type": "code",
   "execution_count": null,
   "metadata": {},
   "outputs": [
    {
     "name": "stdout",
     "output_type": "stream",
     "text": [
      "[12, 33, 65, 7, 77, 80, 33]\n"
     ]
    }
   ],
   "source": [
    "list=[12,33,65,7,77]\n",
    "list.append(80)  #add the at end the list\n",
    "list.append(33)\n",
    "print(list)"
   ]
  },
  {
   "cell_type": "code",
   "execution_count": null,
   "metadata": {},
   "outputs": [
    {
     "name": "stdout",
     "output_type": "stream",
     "text": [
      "[11, 12, 43, 56, 87]\n"
     ]
    }
   ],
   "source": [
    "list=[12,43,56,87]\n",
    "list.insert(0,11) #insert 11 at indext 0\n",
    "print(list)"
   ]
  },
  {
   "cell_type": "code",
   "execution_count": null,
   "metadata": {},
   "outputs": [
    {
     "name": "stdout",
     "output_type": "stream",
     "text": [
      "[2, 3, 4]\n"
     ]
    }
   ],
   "source": [
    "list=[1,2,3,4]\n",
    "list.pop(0)  # remove element at index 0\n",
    "print(list)"
   ]
  },
  {
   "cell_type": "code",
   "execution_count": null,
   "metadata": {},
   "outputs": [],
   "source": [
    "list=[1,2,3,4]\n",
    "list.remove(1)  #remove 1 from the list\n",
    "print(list)"
   ]
  },
  {
   "cell_type": "code",
   "execution_count": null,
   "metadata": {},
   "outputs": [
    {
     "name": "stdout",
     "output_type": "stream",
     "text": [
      "(1,)\n"
     ]
    }
   ],
   "source": [
    "#tuple=(1)  wrong way to declare a tuple with single element\n",
    "tuple=(1,)  #tuple with single element\n",
    "print(tuple)"
   ]
  },
  {
   "cell_type": "code",
   "execution_count": null,
   "metadata": {},
   "outputs": [
    {
     "name": "stdout",
     "output_type": "stream",
     "text": [
      "4\n"
     ]
    }
   ],
   "source": [
    "t=(1,2,3,4,1,1,1)\n",
    "print(t.count(1))  #"
   ]
  },
  {
   "cell_type": "code",
   "execution_count": null,
   "metadata": {},
   "outputs": [
    {
     "name": "stdout",
     "output_type": "stream",
     "text": [
      "2\n"
     ]
    }
   ],
   "source": [
    "t=(1,2,3,4,5)\n",
    "print(t.index(3))"
   ]
  },
  {
   "cell_type": "code",
   "execution_count": null,
   "metadata": {},
   "outputs": [
    {
     "name": "stdout",
     "output_type": "stream",
     "text": [
      "['dd', 'dd', 'ddd', 'dd']\n"
     ]
    }
   ],
   "source": [
    "f1=input('enter the furit name 1')\n",
    "f2=input('enter the furit name 2')\n",
    "f3=input('enter the furit name 3')\n",
    "f4=input('enter the furit name 4')\n",
    "myfurit=[f1,f2,f3,f4]\n",
    "print(myfurit)\n"
   ]
  },
  {
   "cell_type": "code",
   "execution_count": null,
   "metadata": {},
   "outputs": [
    {
     "name": "stdout",
     "output_type": "stream",
     "text": [
      "[10, 21, 24]\n"
     ]
    }
   ],
   "source": [
    "s1=int(input('enter your marks'))\n",
    "s2=int(input('enter your marks'))\n",
    "s3=int(input('enter your marks'))\n",
    "markslist=[s1,s2,s3]\n",
    "markslist.sort()\n",
    "print(markslist)"
   ]
  },
  {
   "cell_type": "code",
   "execution_count": null,
   "metadata": {},
   "outputs": [
    {
     "name": "stdout",
     "output_type": "stream",
     "text": [
      "3\n"
     ]
    }
   ],
   "source": [
    "a=(7,0,8,0,0,9)\n",
    "print(a.count(0))"
   ]
  },
  {
   "cell_type": "code",
   "execution_count": null,
   "metadata": {},
   "outputs": [
    {
     "name": "stdout",
     "output_type": "stream",
     "text": [
      "deep\n"
     ]
    }
   ],
   "source": [
    "myDict={\n",
    "    'name':'deep',\n",
    "    'age' :'21',\n",
    "    'add' :'vanavd',\n",
    "}\n",
    "print(myDict['name']) "
   ]
  },
  {
   "cell_type": "code",
   "execution_count": null,
   "metadata": {},
   "outputs": [
    {
     "name": "stdout",
     "output_type": "stream",
     "text": [
      "Deep\n",
      "21\n"
     ]
    }
   ],
   "source": [
    "a={\n",
    "    'name': 'Deep',\n",
    "    'age':'21',\n",
    "}\n",
    "print(a['name'])\n",
    "print(a['age'])"
   ]
  },
  {
   "cell_type": "code",
   "execution_count": null,
   "metadata": {},
   "outputs": [
    {
     "name": "stdout",
     "output_type": "stream",
     "text": [
      "dict_items([('name', 'deep'), ('add', 'vanavad,block no.1'), ('number', '9824427033')])\n",
      "dict_keys(['name', 'add', 'number'])\n",
      "dict_values(['deep', 'vanavad,block no.1', '9824427033'])\n",
      "deep\n"
     ]
    }
   ],
   "source": [
    "myDict={\n",
    "    'name'   : 'deep', # 'name' is a key of the myDict & 'deep' is a velue of the myDict         \n",
    "    'add'    : 'vanavad,block no.1',\n",
    "    'number' : '9824427033',\n",
    "    }\n",
    "print(myDict.items())\n",
    "print(myDict.keys())\n",
    "print(myDict.values())\n",
    "print(myDict.get('name')) # you can not enter the value of myDict in get methode"
   ]
  },
  {
   "cell_type": "code",
   "execution_count": null,
   "metadata": {},
   "outputs": [
    {
     "name": "stdout",
     "output_type": "stream",
     "text": [
      "{'name': 'villain', 'add': 'vanavad,block no.1', 'number': '9824427033', 'gender': 'man'}\n"
     ]
    }
   ],
   "source": [
    "a={\n",
    "    'name'   : 'deep',      \n",
    "    'add'    : 'vanavad,block no.1',\n",
    "    'number' : '9824427033',\n",
    "    }\n",
    "b={\n",
    "    'name':'villain',  #you can change keys and velue\n",
    "    'gender'  : 'man',  # you can new add the keys and velue\n",
    "    \n",
    "}    \n",
    "a.update(b)  #print(a.update(b))  both are same\n",
    "print(a)    "
   ]
  },
  {
   "cell_type": "code",
   "execution_count": null,
   "metadata": {},
   "outputs": [
    {
     "name": "stdout",
     "output_type": "stream",
     "text": [
      "<class 'set'>\n",
      "{1, 2, 3, 4, 5}\n"
     ]
    }
   ],
   "source": [
    "a={1,2,3,4,5,1}\n",
    "print(type(a))\n",
    "print(a)  # set can not retun of eliment"
   ]
  },
  {
   "cell_type": "code",
   "execution_count": null,
   "metadata": {},
   "outputs": [
    {
     "name": "stdout",
     "output_type": "stream",
     "text": [
      "<class 'tuple'>\n",
      "<class 'dict'>\n",
      "<class 'set'>\n"
     ]
    }
   ],
   "source": [
    "a = ()  #this syntex will create Set\n",
    "print(type(a)) \n",
    "b = {}  #this syntex will create Dictionary\n",
    "print(type(b))\n",
    "c = set()  #this syntex will create Set\n",
    "print(type(c)) \n"
   ]
  },
  {
   "cell_type": "code",
   "execution_count": null,
   "metadata": {},
   "outputs": [
    {
     "name": "stdout",
     "output_type": "stream",
     "text": [
      "{1, 2, (1, 2, 3)}\n"
     ]
    }
   ],
   "source": [
    "a=set()\n",
    "a.add(1)\n",
    "a.add(2)\n",
    "a.add(1)\n",
    "a.add((1,2,3)) #you can add tuple in set but dont add list\n",
    "print(a) # sat is a collection of non repeat eliment"
   ]
  },
  {
   "cell_type": "code",
   "execution_count": null,
   "metadata": {},
   "outputs": [
    {
     "name": "stdout",
     "output_type": "stream",
     "text": [
      "6\n"
     ]
    }
   ],
   "source": [
    "set=(1,2,3,34,4,3)\n",
    "print(len(set)) "
   ]
  },
  {
   "cell_type": "code",
   "execution_count": null,
   "metadata": {},
   "outputs": [
    {
     "name": "stdout",
     "output_type": "stream",
     "text": [
      "{'hello', 1, 3, 'deep'}\n",
      "{'hello', 3, 'deep'}\n",
      "hello\n"
     ]
    }
   ],
   "source": [
    "a=set()\n",
    "a.add(1)\n",
    "a.add(3)\n",
    "a.add('hello')\n",
    "a.add('deep')\n",
    "print(a)\n",
    "a.remove(1)  # remove 1 from set a\n",
    "print(a)\n",
    "print(a.pop()) # any element retun from set a"
   ]
  },
  {
   "cell_type": "code",
   "execution_count": null,
   "metadata": {},
   "outputs": [
    {
     "name": "stdout",
     "output_type": "stream",
     "text": [
      "{'deep', 3, 4}\n",
      "set()\n"
     ]
    }
   ],
   "source": [
    "a=set()\n",
    "a.add(3)\n",
    "a.add(4)\n",
    "a.add('deep')\n",
    "print(a)\n",
    "a.clear() #clear all element in set\n",
    "print(a)"
   ]
  },
  {
   "cell_type": "code",
   "execution_count": null,
   "metadata": {},
   "outputs": [
    {
     "name": "stdout",
     "output_type": "stream",
     "text": [
      "{32, 55, 56, 43, 12, 45}\n",
      "{12}\n"
     ]
    }
   ],
   "source": [
    "a={12,32,45,55}\n",
    "b={12,43,56}\n",
    "x=a.union(b) # only one time print the elemant  \n",
    "print(x)\n",
    "z=a.intersection(b) #set a and b seam element print\n",
    "print(z)"
   ]
  },
  {
   "cell_type": "code",
   "execution_count": null,
   "metadata": {},
   "outputs": [
    {
     "name": "stdout",
     "output_type": "stream",
     "text": [
      "None\n"
     ]
    }
   ],
   "source": [
    "myDict={\n",
    "    'play':'khelna',\n",
    "    'go'  :'jana',\n",
    "    'come':'ana',\n",
    "    'sit' :'bedhna',\n",
    "}\n",
    "a=input('enter the english word:' )\n",
    "print(myDict.get(a)) # or print(myDict[a])"
   ]
  },
  {
   "cell_type": "code",
   "execution_count": null,
   "metadata": {},
   "outputs": [
    {
     "name": "stdout",
     "output_type": "stream",
     "text": [
      "{10, 44, 54}\n"
     ]
    }
   ],
   "source": [
    "num1 = int(input('enter the number 1'))\n",
    "num2 = int(input('enter the number 2'))\n",
    "num3 = int(input('enter the number 3'))\n",
    "num4 = int(input('enter the number 4'))\n",
    "\n",
    "s = {num1,num2,num3,num4}\n",
    "print(s)\n"
   ]
  },
  {
   "cell_type": "code",
   "execution_count": null,
   "metadata": {},
   "outputs": [
    {
     "name": "stdout",
     "output_type": "stream",
     "text": [
      "2\n"
     ]
    }
   ],
   "source": [
    "a=set()\n",
    "a.add(2)\n",
    "a.add(2.0)\n",
    "a.add(\"20\")\n",
    "print(len(a))"
   ]
  },
  {
   "cell_type": "code",
   "execution_count": null,
   "metadata": {},
   "outputs": [
    {
     "name": "stdout",
     "output_type": "stream",
     "text": [
      "{'deep': 'python', 'villain': 'java'}\n"
     ]
    }
   ],
   "source": [
    "favLang={}\n",
    "a=input('enter your favorite language deep')\n",
    "b=input('enter your favorite language villain')\n",
    "favLang['deep']=a\n",
    "favLang['villain']=b\n",
    "print(favLang)"
   ]
  },
  {
   "cell_type": "code",
   "execution_count": null,
   "metadata": {},
   "outputs": [
    {
     "name": "stdout",
     "output_type": "stream",
     "text": [
      "12 is greater then 8 \n"
     ]
    }
   ],
   "source": [
    "a=12\n",
    "if(a<10):\n",
    "    print('12 is less then 10')\n",
    "elif(a>8):\n",
    "    print('12 is greater then 8 ')\n",
    "else:\n",
    "    print('mybe')        "
   ]
  },
  {
   "cell_type": "code",
   "execution_count": null,
   "metadata": {},
   "outputs": [
    {
     "name": "stdout",
     "output_type": "stream",
     "text": [
      "50<100\n",
      "50==50\n",
      "mybe any condition are false\n"
     ]
    }
   ],
   "source": [
    "#multiple if statements\n",
    "a = 50\n",
    "if(a<100):\n",
    "    print('50<100')\n",
    "if(a==50):\n",
    "    print('50==50')    \n",
    "if(a>129):\n",
    "    print('50>12')\n",
    "else:\n",
    "    print('mybe any condition are false')\n",
    "    "
   ]
  },
  {
   "cell_type": "code",
   "execution_count": null,
   "metadata": {},
   "outputs": [
    {
     "name": "stdout",
     "output_type": "stream",
     "text": [
      "jjjjjj\n"
     ]
    }
   ],
   "source": [
    "a=123\n",
    "if(a==152):\n",
    "    print('ssss')\n",
    "if(a>123):\n",
    "    print('wwww')\n",
    "elif(a>122):\n",
    "    print('jjjjjj')\n",
    "elif(a<124):\n",
    "    print('dddd')  \n",
    "else:\n",
    "    print('zzzz')\n"
   ]
  },
  {
   "cell_type": "code",
   "execution_count": null,
   "metadata": {},
   "outputs": [
    {
     "name": "stdout",
     "output_type": "stream",
     "text": [
      "great\n"
     ]
    }
   ],
   "source": [
    "a=12\n",
    "if(a>10):\n",
    "    print('greater  ')\n",
    "else:\n",
    "    print('less')"
   ]
  },
  {
   "cell_type": "code",
   "execution_count": null,
   "metadata": {},
   "outputs": [
    {
     "name": "stdout",
     "output_type": "stream",
     "text": [
      "no\n"
     ]
    }
   ],
   "source": [
    "age=int(input('enter you age'))\n",
    "if(age>18):\n",
    "    print('yes')\n",
    "else:\n",
    "    print('no')"
   ]
  },
  {
   "cell_type": "code",
   "execution_count": null,
   "metadata": {},
   "outputs": [
    {
     "name": "stdout",
     "output_type": "stream",
     "text": [
      "and you can work in offic\n",
      "or you can work in offic\n",
      "you can not work in offic\n"
     ]
    }
   ],
   "source": [
    "age=int(input('enter your age'))\n",
    "if(age<60 and age>18): # banne velue true hase to j retun thde\n",
    "    print('and you can work in offic')\n",
    "if(age<60 or age>18):  # any one velue is true then retun....\n",
    "    print('or you can work in offic')\n",
    "if(not age>18): # true ko false & false ko true kar dega\n",
    "    print('you can work in offic')\n",
    "else:\n",
    "    print('you can not work in offic')"
   ]
  },
  {
   "cell_type": "code",
   "execution_count": null,
   "metadata": {},
   "outputs": [
    {
     "name": "stdout",
     "output_type": "stream",
     "text": [
      "yes\n"
     ]
    }
   ],
   "source": [
    "a = None\n",
    "if(a is None):\n",
    "    print('yes')\n",
    "else:\n",
    "    print('no')"
   ]
  },
  {
   "cell_type": "code",
   "execution_count": null,
   "metadata": {},
   "outputs": [
    {
     "name": "stdout",
     "output_type": "stream",
     "text": [
      "True\n"
     ]
    }
   ],
   "source": [
    "a=[12,23,44,65]\n",
    "print(44 in a)"
   ]
  },
  {
   "cell_type": "code",
   "execution_count": null,
   "metadata": {},
   "outputs": [
    {
     "name": "stdout",
     "output_type": "stream",
     "text": [
      "else is optional\n"
     ]
    }
   ],
   "source": [
    "a= 12\n",
    "if(a>22):\n",
    "    print('if')\n",
    "elif(a==14):\n",
    "    print('elif')\n",
    "print('else is optional')"
   ]
  },
  {
   "cell_type": "code",
   "execution_count": null,
   "metadata": {},
   "outputs": [
    {
     "name": "stdout",
     "output_type": "stream",
     "text": [
      "100 is greater\n"
     ]
    }
   ],
   "source": [
    "num1=int(input('enter your number 1'))\n",
    "num2=int(input('enter your number 2'))\n",
    "num3=int(input('enter your number 3'))\n",
    "\n",
    "if(num1>num2):\n",
    "    f1=num1\n",
    "else:\n",
    "    f1=num2\n",
    "\n",
    "if(f1>num3):\n",
    "    print(f1 ,\"is greater\")\n",
    "else:\n",
    "    print(num3,\"is greater\")"
   ]
  },
  {
   "cell_type": "code",
   "execution_count": null,
   "metadata": {},
   "outputs": [
    {
     "name": "stdout",
     "output_type": "stream",
     "text": [
      "total percentage lass then 40\n"
     ]
    }
   ],
   "source": [
    "sub1=int(input('enter your marke 1'))\n",
    "sub2=int(input('enter your marke 2'))\n",
    "sub3=int(input('enter your marke 3'))\n",
    "if(sub1<33 or sub2<33 or sub3<33):\n",
    "    print('you are fail')\n",
    "elif(sub1+sub2+sub3)/3 <40:\n",
    "    print('total percentage lass then 40')\n",
    "else:\n",
    "    print('pass')\n"
   ]
  },
  {
   "cell_type": "code",
   "execution_count": null,
   "metadata": {},
   "outputs": [
    {
     "name": "stdout",
     "output_type": "stream",
     "text": [
      "not a spam\n"
     ]
    }
   ],
   "source": [
    "text=input('enter the text')\n",
    "if('click here'in text):\n",
    "    spam=True\n",
    "elif('subscribe this'in text):\n",
    "    spam=True\n",
    "else:\n",
    "    spam=False\n",
    "if(spam):\n",
    "    print('this is spam')\n",
    "else:\n",
    "    print('not a spam')"
   ]
  },
  {
   "cell_type": "code",
   "execution_count": null,
   "metadata": {},
   "outputs": [
    {
     "name": "stdout",
     "output_type": "stream",
     "text": [
      "10 character here\n"
     ]
    }
   ],
   "source": [
    "name=input('enter you name')\n",
    "a=len(name)\n",
    "if(a>10):\n",
    "    print('10 character here')\n",
    "else:\n",
    "    print('this name in lass then 10 character here')"
   ]
  },
  {
   "cell_type": "code",
   "execution_count": null,
   "metadata": {},
   "outputs": [
    {
     "name": "stdout",
     "output_type": "stream",
     "text": [
      "you are not in lit\n"
     ]
    }
   ],
   "source": [
    "names=['deep','khush','darshan','sanket','jeel','kasyap','ronak']\n",
    "name=input('enter the name to check in list')\n",
    "if(name in names):\n",
    "    print('you are in list')\n",
    "else:\n",
    "    print('you are not in lit')\n"
   ]
  },
  {
   "cell_type": "code",
   "execution_count": null,
   "metadata": {},
   "outputs": [
    {
     "name": "stdout",
     "output_type": "stream",
     "text": [
      "your grade is F\n"
     ]
    }
   ],
   "source": [
    "mark=int(input('enter your mark'))\n",
    "if (mark>=90):\n",
    "    grade ='Ex'\n",
    "elif(mark>=80):\n",
    "    grade ='A'\n",
    "elif(mark>=70):\n",
    "    grade ='B'\n",
    "elif(mark>=60):\n",
    "    grade ='C'\n",
    "elif(mark>=50):\n",
    "    grade ='D'\n",
    "else:\n",
    "    grade ='F'\n",
    "print('your grade is', grade)    "
   ]
  },
  {
   "cell_type": "code",
   "execution_count": null,
   "metadata": {},
   "outputs": [
    {
     "name": "stdout",
     "output_type": "stream",
     "text": [
      "alert !! he/she toking about mr.deep\n"
     ]
    }
   ],
   "source": [
    "abouts=input('what do you want to say about')\n",
    "if 'DEEP' in abouts :\n",
    "   alert= True\n",
    "if 'Deep' in abouts :\n",
    "   alert= True\n",
    "if 'deep' in abouts :\n",
    "   alert= True\n",
    "else:\n",
    "    alert= False\n",
    "\n",
    "if(alert):\n",
    "    print('alert !! he/she toking about mr.deep')\n",
    "else:\n",
    "    print('relax ')"
   ]
  },
  {
   "cell_type": "code",
   "execution_count": null,
   "metadata": {},
   "outputs": [
    {
     "name": "stdout",
     "output_type": "stream",
     "text": [
      "<class 'float'>\n"
     ]
    }
   ],
   "source": [
    "a=float(1.4)\n",
    "print(type(a))"
   ]
  },
  {
   "cell_type": "code",
   "execution_count": null,
   "metadata": {},
   "outputs": [
    {
     "name": "stdout",
     "output_type": "stream",
     "text": [
      "*7\n",
      "*8\n",
      "*9\n"
     ]
    }
   ],
   "source": [
    "i=7\n",
    "while i<10:\n",
    "    print('*'+ str(i)) # i ni velue ne string na cast kari\n",
    "    i=i+1"
   ]
  },
  {
   "cell_type": "code",
   "execution_count": null,
   "metadata": {},
   "outputs": [],
   "source": [
    "i=1\n",
    "while i<=50:\n",
    "    print(i)\n",
    "    i=i+1"
   ]
  },
  {
   "cell_type": "code",
   "execution_count": null,
   "metadata": {},
   "outputs": [
    {
     "name": "stdout",
     "output_type": "stream",
     "text": [
      "deep\n",
      "deep\n",
      "deep\n"
     ]
    }
   ],
   "source": [
    "i=0\n",
    "while i<3:\n",
    "    print('deep')\n",
    "    i = i +1"
   ]
  },
  {
   "cell_type": "code",
   "execution_count": null,
   "metadata": {},
   "outputs": [
    {
     "name": "stdout",
     "output_type": "stream",
     "text": [
      "mango\n",
      "banana\n",
      "oreng\n",
      "apple\n"
     ]
    }
   ],
   "source": [
    "fruits=['mango','banana','oreng','apple']\n",
    "i=0\n",
    "while i<len(fruits):\n",
    "    print(fruits[i])\n",
    "    i = i+1"
   ]
  },
  {
   "cell_type": "code",
   "execution_count": null,
   "metadata": {},
   "outputs": [
    {
     "name": "stdout",
     "output_type": "stream",
     "text": [
      "mango\n",
      "banana\n",
      "oreng\n",
      "apple\n"
     ]
    }
   ],
   "source": [
    "fruits=['mango','banana','oreng','apple']\n",
    "for item in fruits:\n",
    "    print(item)"
   ]
  },
  {
   "cell_type": "code",
   "execution_count": null,
   "metadata": {},
   "outputs": [
    {
     "name": "stdout",
     "output_type": "stream",
     "text": [
      "0\n",
      "1\n",
      "2\n"
     ]
    }
   ],
   "source": [
    "for i in range(3):\n",
    "    print(i)"
   ]
  },
  {
   "cell_type": "code",
   "execution_count": null,
   "metadata": {},
   "outputs": [
    {
     "name": "stdout",
     "output_type": "stream",
     "text": [
      "0\n",
      "2\n",
      "4\n",
      "6\n",
      "8\n"
     ]
    }
   ],
   "source": [
    "for i in range(0,10,2):\n",
    "    print(i)"
   ]
  },
  {
   "cell_type": "code",
   "execution_count": null,
   "metadata": {},
   "outputs": [
    {
     "name": "stdout",
     "output_type": "stream",
     "text": [
      "0\n",
      "1\n",
      "2\n",
      "3\n",
      "done\n"
     ]
    }
   ],
   "source": [
    "for i in range(4):\n",
    "    print(i)\n",
    "else:\n",
    "    print('done')"
   ]
  },
  {
   "cell_type": "code",
   "execution_count": null,
   "metadata": {},
   "outputs": [
    {
     "name": "stdout",
     "output_type": "stream",
     "text": [
      "0\n",
      "1\n",
      "2\n",
      "3\n",
      "4\n",
      "5\n"
     ]
    }
   ],
   "source": [
    "for i in range(8):\n",
    "    print(i)\n",
    "    if i==5:\n",
    "        break  #break statument is break the loop\n",
    "else:\n",
    "    print('done')\n"
   ]
  },
  {
   "cell_type": "code",
   "execution_count": null,
   "metadata": {},
   "outputs": [
    {
     "name": "stdout",
     "output_type": "stream",
     "text": [
      "0\n",
      "1\n",
      "2\n",
      "3\n",
      "4\n",
      "6\n"
     ]
    }
   ],
   "source": [
    "for i in range(7):\n",
    "    if i==5:\n",
    "        continue  # skip velue 5 and then continu print\n",
    "    print(i)"
   ]
  },
  {
   "cell_type": "code",
   "execution_count": null,
   "metadata": {},
   "outputs": [
    {
     "name": "stdout",
     "output_type": "stream",
     "text": [
      "[1, 2, 4]\n"
     ]
    }
   ],
   "source": [
    "i=[1,2,4]\n",
    "for item in i:\n",
    "    pass  #pass is null statement in python\n",
    "print(i)"
   ]
  },
  {
   "cell_type": "code",
   "execution_count": null,
   "metadata": {},
   "outputs": [],
   "source": [
    "num = int(input('enter your number'))\n",
    "i=0\n",
    "while i<10:\n",
    "    i=i+1\n",
    "    print(str(num) + \"x\"+ str(i)+ \"=\" + str(i*num))\n",
    "    #print(f\"{num}X{i}={i*num}\")  this is a shotcut methode"
   ]
  },
  {
   "cell_type": "code",
   "execution_count": null,
   "metadata": {},
   "outputs": [],
   "source": [
    "# same program using for loop\n",
    "num=int(input('enter your number'))\n",
    "for i in range(1,11):\n",
    "    print(f\"{num}X{i}={num*i}\")"
   ]
  },
  {
   "cell_type": "code",
   "execution_count": null,
   "metadata": {},
   "outputs": [
    {
     "name": "stdout",
     "output_type": "stream",
     "text": [
      "hellodeep\n",
      "hellodetroja\n",
      "khushsorry you are not in list\n"
     ]
    }
   ],
   "source": [
    "l1=['deep','detroja','khush']\n",
    "#l2=input('enter your name in list')\n",
    "for name in l1:\n",
    "    if name.startswith('d'):\n",
    "        print('hello' +name)\n",
    "    else:\n",
    "        print(name +'sorry you are not in list')\n"
   ]
  },
  {
   "cell_type": "code",
   "execution_count": null,
   "metadata": {},
   "outputs": [
    {
     "name": "stdout",
     "output_type": "stream",
     "text": [
      "3 is prime number\n"
     ]
    }
   ],
   "source": [
    "num=int(input('enter your number'))\n",
    "prime=True\n",
    "for i in range (2,num):\n",
    "    if(num%i==0):\n",
    "        prime=False\n",
    "        break\n",
    "if prime:\n",
    "    print(str(num)+ ' is prime number')\n",
    "else:\n",
    "    print(str(num)+ ' is not prime number')"
   ]
  },
  {
   "cell_type": "code",
   "execution_count": null,
   "metadata": {},
   "outputs": [
    {
     "name": "stdout",
     "output_type": "stream",
     "text": [
      "2 is prime number\n"
     ]
    }
   ],
   "source": [
    "#same program is while loop1\n",
    "num=int(input('enter your number'))\n",
    "i=2\n",
    "prime=True\n",
    "while i<=num /2:\n",
    "    if(num%i==0):\n",
    "        prime=False\n",
    "        break\n",
    "    #i=i+1\n",
    "if prime:\n",
    "    print(str(num)+ ' is prime number')\n",
    "else:\n",
    "    print(str(num)+ ' is not prime number') \n"
   ]
  },
  {
   "cell_type": "code",
   "execution_count": null,
   "metadata": {},
   "outputs": [
    {
     "name": "stdout",
     "output_type": "stream",
     "text": [
      "the factorial of 3 is 6\n"
     ]
    }
   ],
   "source": [
    "num=int(input('enter your number'))\n",
    "fact=1\n",
    "for i in range(1,num+1):\n",
    "    fact = fact * i\n",
    "print(f'the factorial of {num} is {fact}')"
   ]
  },
  {
   "cell_type": "code",
   "execution_count": null,
   "metadata": {},
   "outputs": [
    {
     "name": "stdout",
     "output_type": "stream",
     "text": [
      "the factorial of 3 is 6\n"
     ]
    }
   ],
   "source": [
    "#same program in while loop\n",
    "num=int(input('enter your number'))\n",
    "i=1\n",
    "fact=1\n",
    "while i<=num:\n",
    "    fact= fact * i\n",
    "    i = i+1\n",
    "print(f'the factorial of {num} is {fact}')\n"
   ]
  },
  {
   "cell_type": "code",
   "execution_count": null,
   "metadata": {},
   "outputs": [
    {
     "name": "stdout",
     "output_type": "stream",
     "text": [
      "*\n",
      "**\n",
      "***\n",
      "****\n"
     ]
    }
   ],
   "source": [
    "n=4\n",
    "for i in range(4):\n",
    "    print('*' * (i+1))"
   ]
  },
  {
   "cell_type": "code",
   "execution_count": 1,
   "metadata": {},
   "outputs": [
    {
     "name": "stdout",
     "output_type": "stream",
     "text": [
      "*\n",
      "**\n",
      "***\n",
      "****\n"
     ]
    }
   ],
   "source": [
    "#same prongram using while loop\n",
    "n=4\n",
    "i=0\n",
    "while i<4:\n",
    "    print('*'*(i+1))\n",
    "    i = i+1"
   ]
  },
  {
   "cell_type": "code",
   "execution_count": 1,
   "metadata": {},
   "outputs": [
    {
     "name": "stdout",
     "output_type": "stream",
     "text": [
      "    *   \n",
      "   **  \n",
      "  *** \n",
      " ****\n"
     ]
    }
   ],
   "source": [
    "n=4\n",
    "for i in range(4):\n",
    "    print(\" \" *(n-i-1),end=\" \")    \n",
    "    print(\"*\" *(i+1),end=\"\")\n",
    "    print(\" \" *(n-i-1))"
   ]
  },
  {
   "cell_type": "code",
   "execution_count": null,
   "metadata": {},
   "outputs": [
    {
     "name": "stdout",
     "output_type": "stream",
     "text": [
      "  *  \n",
      " *** \n",
      "*****\n"
     ]
    }
   ],
   "source": [
    "n=3\n",
    "for i in range(3):\n",
    "    print(\" \" *(n-i-1), end='')\n",
    "    print('*'*(2*i+1), end='')\n",
    "    print(\" \"*(n-i-1))\n",
    "    \n"
   ]
  },
  {
   "cell_type": "code",
   "execution_count": null,
   "metadata": {},
   "outputs": [
    {
     "name": "stdout",
     "output_type": "stream",
     "text": [
      "  *  \n",
      " *** \n",
      "*****\n"
     ]
    }
   ],
   "source": [
    "n=3\n",
    "i=0\n",
    "while i<n:\n",
    "    print(' '*(n-i-1),end='')\n",
    "    print('*'*(2*i+1),end='')\n",
    "    print(' '*(n-i-1))\n",
    "    i = i+1\n"
   ]
  },
  {
   "cell_type": "code",
   "execution_count": null,
   "metadata": {},
   "outputs": [
    {
     "name": "stdout",
     "output_type": "stream",
     "text": [
      "mark1 percentege is 79.75\n",
      "mark2 percentege is 75.75\n"
     ]
    }
   ],
   "source": [
    "def percent(mark):\n",
    "    return(sum(mark)/400)*100\n",
    "mark1=[55,76,98,90]\n",
    "percentage1=percent(mark1)\n",
    "\n",
    "mark2=[58,60,95,90]\n",
    "percentage2=percent(mark2)\n",
    "\n",
    "print(f\"mark1 percentege is {percentage1}\")\n",
    "print(f\"mark2 percentege is {percentage2}\")\n"
   ]
  },
  {
   "cell_type": "code",
   "execution_count": null,
   "metadata": {},
   "outputs": [
    {
     "name": "stdout",
     "output_type": "stream",
     "text": [
      "good morning deep\n"
     ]
    }
   ],
   "source": [
    "def a(name):\n",
    "    print('good morning '+ name)\n",
    "a('deep')"
   ]
  },
  {
   "cell_type": "code",
   "execution_count": null,
   "metadata": {},
   "outputs": [
    {
     "name": "stdout",
     "output_type": "stream",
     "text": [
      "hey deep\n"
     ]
    }
   ],
   "source": [
    "name1=input('what is your name :')\n",
    "def a(name):\n",
    "    print('hey '+name)\n",
    "s=a(name1)"
   ]
  },
  {
   "cell_type": "code",
   "execution_count": null,
   "metadata": {},
   "outputs": [
    {
     "name": "stdout",
     "output_type": "stream",
     "text": [
      "hello deep\n",
      "hello stranger\n"
     ]
    }
   ],
   "source": [
    "#default parameter value\n",
    "def a(name='stranger'):\n",
    "    print('hello '+ name)\n",
    "a('deep')\n",
    "a()"
   ]
  },
  {
   "cell_type": "code",
   "execution_count": null,
   "metadata": {},
   "outputs": [
    {
     "name": "stdout",
     "output_type": "stream",
     "text": [
      "maxnuber is 45\n"
     ]
    }
   ],
   "source": [
    "def maxnumber(num1,num2,num3):\n",
    "    if num1>num2:\n",
    "        a= num1\n",
    "    else:\n",
    "        a= num2\n",
    "    if num3<a:\n",
    "        print(f'maxnuber is {a}')\n",
    "    else:\n",
    "        print(f'maxnuber is {num3}')\n",
    "i=maxnumber(13,16,45)\n",
    "#print(f\"the maxnumber is {i}\")"
   ]
  },
  {
   "cell_type": "code",
   "execution_count": null,
   "metadata": {},
   "outputs": [
    {
     "name": "stdout",
     "output_type": "stream",
     "text": [
      "good morning deep "
     ]
    }
   ],
   "source": [
    "print('good', end=\" \")\n",
    "print('morning', end=\" \")\n",
    "print('deep', end=\" \")"
   ]
  },
  {
   "cell_type": "code",
   "execution_count": null,
   "metadata": {},
   "outputs": [
    {
     "name": "stdout",
     "output_type": "stream",
     "text": [
      "***\n",
      "**\n",
      "*\n"
     ]
    }
   ],
   "source": [
    "n=3\n",
    "for i in range(3):\n",
    "    print(\"*\" *(n-i))"
   ]
  },
  {
   "cell_type": "code",
   "execution_count": null,
   "metadata": {},
   "outputs": [
    {
     "data": {
      "text/plain": [
       "111.76"
      ]
     },
     "execution_count": 80,
     "metadata": {},
     "output_type": "execute_result"
    }
   ],
   "source": [
    "def num(inch):\n",
    "    return 2.54 * inch\n",
    "a=int(input(\"enter the inch\"))\n",
    "num(a)"
   ]
  },
  {
   "cell_type": "code",
   "execution_count": null,
   "metadata": {},
   "outputs": [
    {
     "name": "stdout",
     "output_type": "stream",
     "text": [
      "    my name is deep    \n",
      "my name is deep\n"
     ]
    }
   ],
   "source": [
    "i = \"    my name is deep    \"\n",
    "print(i)\n",
    "print(i.strip()) #this function remu pass\n"
   ]
  },
  {
   "cell_type": "code",
   "execution_count": null,
   "metadata": {},
   "outputs": [],
   "source": [
    "num=int(input('enter your number'))\n",
    "for i in range(1,11):\n",
    "    print(f\"{num} X {i} = {num*i}\")\n",
    "    \n"
   ]
  },
  {
   "cell_type": "code",
   "execution_count": null,
   "metadata": {},
   "outputs": [
    {
     "name": "stdout",
     "output_type": "stream",
     "text": [
      "computer chosed w\n",
      "you chosed g\n",
      "you lose\n"
     ]
    }
   ],
   "source": [
    "# sanke water gun game\n",
    "import random\n",
    "def game(computer,you):\n",
    "    if computer==you:\n",
    "        return None\n",
    "    elif computer=='g':\n",
    "        if you =='s':\n",
    "            return False\n",
    "        elif you =='w':\n",
    "            return True\n",
    "    elif computer=='w':\n",
    "        if you =='s':\n",
    "            return True\n",
    "        elif you =='g':\n",
    "            return False\n",
    "    elif computer=='s':\n",
    "        if you =='g':\n",
    "            return True\n",
    "        elif you =='w':\n",
    "            return False\n",
    "randno = random.randint(1,3)\n",
    "if randno==1:\n",
    "    computer = 's'\n",
    "elif randno==2:\n",
    "    computer = 'w'\n",
    "else:\n",
    "    computer = 'g'\n",
    "you = input(\"playe's turn:sanke(s) water(w) gun(g)\")\n",
    "a=game(computer,you)\n",
    "print(f\"computer chosed : {computer}\")\n",
    "print(f\"you chosed : {you}\")\n",
    "if a== None:\n",
    "    print('game is tie1')\n",
    "elif a:\n",
    "    print('you win')\n",
    "else:\n",
    "    print('you lose')"
   ]
  },
  {
   "cell_type": "code",
   "execution_count": null,
   "metadata": {},
   "outputs": [
    {
     "name": "stdout",
     "output_type": "stream",
     "text": [
      "i am deep and\n",
      "you can call me villain\n"
     ]
    }
   ],
   "source": [
    "#us opne function to read the content of a file\n",
    "f=open('read.text','r')#'r' is default mode, if you don't write this so otomatik 'r' selct ony read function\n",
    "data= f.read()\n",
    "print(data)\n",
    "f.close()"
   ]
  },
  {
   "cell_type": "code",
   "execution_count": null,
   "metadata": {},
   "outputs": [
    {
     "name": "stdout",
     "output_type": "stream",
     "text": [
      "i am deep\n"
     ]
    }
   ],
   "source": [
    "f=open('read.text','r')\n",
    "data=f.read(9) #read first 7 characters from the file\n",
    "print(data)\n",
    "f.close()"
   ]
  },
  {
   "cell_type": "code",
   "execution_count": null,
   "metadata": {},
   "outputs": [
    {
     "name": "stdout",
     "output_type": "stream",
     "text": [
      "i am deep and\n",
      "\n"
     ]
    }
   ],
   "source": [
    "f=open('read.text','r')\n",
    "data=f.readline() # read first line from the file\n",
    "print(data)\n",
    "f.close()"
   ]
  },
  {
   "cell_type": "code",
   "execution_count": null,
   "metadata": {},
   "outputs": [],
   "source": [
    "a= open('write.txt','w')# if this file not in pc so otomatik creat file \n",
    "a.write('this file otomatik creat by write function.')\n",
    "a.close()"
   ]
  },
  {
   "cell_type": "code",
   "execution_count": null,
   "metadata": {},
   "outputs": [],
   "source": [
    "a= open('write.txt','a')\n",
    "a.write('USING APPENDING to write a detail end line.') #jetli var run karso tetli var print thase\n",
    "a.close()"
   ]
  },
  {
   "cell_type": "code",
   "execution_count": null,
   "metadata": {},
   "outputs": [
    {
     "name": "stdout",
     "output_type": "stream",
     "text": [
      "i am deep and\n",
      "you can call me villain\n"
     ]
    }
   ],
   "source": [
    "# show file detal using with statement\n",
    "with open('read.text','r') as f:\n",
    "    a=f.read()\n",
    "print(a)\n",
    "#f.close() not need when use with statement"
   ]
  },
  {
   "cell_type": "code",
   "execution_count": null,
   "metadata": {},
   "outputs": [
    {
     "name": "stdout",
     "output_type": "stream",
     "text": [
      "22\n"
     ]
    }
   ],
   "source": [
    "# show file detal using with statement  \n",
    "with open('write.txt','w') as f: \n",
    "    a=f.write('hello pater, i am back')\n",
    "    print(a)\n",
    "#f.close() not need when use with statement"
   ]
  },
  {
   "cell_type": "code",
   "execution_count": null,
   "metadata": {},
   "outputs": [
    {
     "name": "stdout",
     "output_type": "stream",
     "text": [
      "pater is pregant in file\n"
     ]
    }
   ],
   "source": [
    "with open('write.txt') as a:\n",
    "    b=a.read()\n",
    "if 'pater' in b:\n",
    "    print('pater is pregant in file')\n",
    "else:\n",
    "    print('pater is not pregant in file')"
   ]
  },
  {
   "cell_type": "code",
   "execution_count": null,
   "metadata": {},
   "outputs": [
    {
     "name": "stdout",
     "output_type": "stream",
     "text": [
      "pater is not pregant in file\n"
     ]
    }
   ],
   "source": [
    "#same program \n",
    "a = open('read.text')\n",
    "b = a.read()\n",
    "if 'pater' in b:\n",
    "    print('pater is pregant in file')\n",
    "else:\n",
    "    print('pater is not pregant in file') # because 'pater' is not pregant in read.text\n",
    "a.close()"
   ]
  },
  {
   "cell_type": "code",
   "execution_count": null,
   "metadata": {},
   "outputs": [],
   "source": [
    "def game():\n",
    "    return 87\n",
    "score= game()\n",
    "with open('hiscor.txt') as f:\n",
    "    hiscore = int (f.read())\n",
    "\n",
    "if hiscore<score:\n",
    "    with open('hiscor.txt','w') as f:\n",
    "        f.write(str(score))\n"
   ]
  },
  {
   "cell_type": "code",
   "execution_count": null,
   "metadata": {},
   "outputs": [],
   "source": [
    "with open('bead.txt') as f:\n",
    "    a = f.read()\n",
    "a = a.replace('fuck','$%#*&')\n",
    "with open('bead.txt','w') as f:\n",
    "    f.write(a)  "
   ]
  },
  {
   "cell_type": "code",
   "execution_count": 3,
   "metadata": {},
   "outputs": [
    {
     "name": "stdout",
     "output_type": "stream",
     "text": [
      "name is deepkumr\n",
      "train is rajdhani\n"
     ]
    }
   ],
   "source": [
    "class RailwayForm:\n",
    "    form = 'railway'\n",
    "    def print(self):\n",
    "        print(f\"name is {self.name}\")\n",
    "        print(f\"train is {self.train}\")\n",
    "\n",
    "a=RailwayForm()\n",
    "a.name='deepkumr'\n",
    "a.train='rajdhani'\n",
    "a.print()\n",
    "\n"
   ]
  },
  {
   "cell_type": "code",
   "execution_count": null,
   "metadata": {},
   "outputs": [
    {
     "name": "stdout",
     "output_type": "stream",
     "text": [
      "Google\n",
      "Microsoft\n"
     ]
    }
   ],
   "source": [
    "#class attributes\n",
    "class Employee:\n",
    "    company = 'Google'  # this is a class attributes\n",
    "\n",
    "\n",
    "deep=Employee()\n",
    "print(deep.company)\n",
    "Employee.company='Microsoft'\n",
    "print(deep.company)"
   ]
  },
  {
   "cell_type": "code",
   "execution_count": null,
   "metadata": {},
   "outputs": [
    {
     "name": "stdout",
     "output_type": "stream",
     "text": [
      "120000\n",
      "100000\n"
     ]
    }
   ],
   "source": [
    "#instance attributes\n",
    "# first chack instance attributes and then class attributes\n",
    "class Employee:\n",
    "    company='youtub' # they are....\n",
    "    salary = 150000  #      ....class attributes\n",
    "\n",
    "deep=Employee()\n",
    "khush=Employee()\n",
    "deep.salary=120000   # they are...\n",
    "khush.salary=100000  #      ...instance attributes\n",
    "print(deep.salary)\n",
    "print(khush.salary)"
   ]
  },
  {
   "cell_type": "code",
   "execution_count": null,
   "metadata": {},
   "outputs": [
    {
     "name": "stdout",
     "output_type": "stream",
     "text": [
      "Salary is 500k\n"
     ]
    }
   ],
   "source": [
    "#self parameter\n",
    "class Employee:\n",
    "    company = 'Tesla'\n",
    "    def salary(self): #salf otomatically passed with a function call from anobject\n",
    "        print('Salary is 500k')\n",
    "deep=Employee()\n",
    "deep.salary() #Employee.salary(deep)"
   ]
  },
  {
   "cell_type": "code",
   "execution_count": null,
   "metadata": {},
   "outputs": [
    {
     "name": "stdout",
     "output_type": "stream",
     "text": [
      "employee name is deep and age is 21 .he's given 500k salary per month.\n"
     ]
    }
   ],
   "source": [
    "# more aregyument in self perameter.\n",
    "class Em:\n",
    "    company = 'Tafe'\n",
    "    def det(self,name,age,salary): #you can take more aregyument in self parameter.\n",
    "        print(f'employee name is {name} and age is {age} .he\\'s given {salary} salary per month.')\n",
    "deep=Em()\n",
    "deep.det('deep',21,'500k')"
   ]
  },
  {
   "cell_type": "code",
   "execution_count": null,
   "metadata": {},
   "outputs": [
    {
     "name": "stdout",
     "output_type": "stream",
     "text": [
      "deep salary is 650k\n"
     ]
    }
   ],
   "source": [
    "#static method\n",
    "class Employee:\n",
    "    @staticmethod # decorator to mrke grat as a static method\n",
    "    def salary(name): # you can add aregument \n",
    "        print(f'{name} salary is 650k')\n",
    "\n",
    "deep = Employee()\n",
    "deep.salary('deep')"
   ]
  },
  {
   "cell_type": "code",
   "execution_count": null,
   "metadata": {},
   "outputs": [
    {
     "name": "stdout",
     "output_type": "stream",
     "text": [
      "watch name shadow and it's cost 1900.\n"
     ]
    }
   ],
   "source": [
    "#__init__ constructor\n",
    "class Dm :\n",
    "    comp = 'watch'\n",
    "    def __init__(self,name,cost): \n",
    "        print(f'watch name {name} and it\\'s cost {cost}.')\n",
    "shadow =Dm('shadow',1900)\n",
    "#__init__ constructor is otomatic"
   ]
  },
  {
   "cell_type": "code",
   "execution_count": null,
   "metadata": {},
   "outputs": [
    {
     "name": "stdout",
     "output_type": "stream",
     "text": [
      "the name of the microsoft programmer is deep and the product is Power BI.\n",
      "the name of the microsoft programmer is khush and the product is Github.\n"
     ]
    }
   ],
   "source": [
    "class Programmer:\n",
    "    company='microsoft'\n",
    "    def __init__(self,name,product):\n",
    "        print(f\"the name of the {self.company} programmer is {name} and the product is {product}.\")\n",
    "deep= Programmer('deep','Power BI')\n",
    "khush=Programmer('khush','Github')"
   ]
  },
  {
   "cell_type": "code",
   "execution_count": null,
   "metadata": {},
   "outputs": [
    {
     "name": "stdout",
     "output_type": "stream",
     "text": [
      "4 squre is 16\n",
      "4 squareRoot is 2.0\n",
      "4 cube is 64\n"
     ]
    }
   ],
   "source": [
    "class Calculator:\n",
    "    def __init__(self,num):\n",
    "        self.number= num\n",
    "\n",
    "    def square(self):\n",
    "        print(f'{self.number} squre is {self.number **2}')\n",
    "\n",
    "    def squareRoot(self):\n",
    "        print(f'{self.number} squareRoot is {self.number **0.5}')\n",
    "\n",
    "\n",
    "    def cube(self):\n",
    "        print(f'{self.number} cube is {self.number **3}')\n",
    "\n",
    "a= Calculator(4)\n",
    "a.square()\n",
    "a.squareRoot()\n",
    "a.cube()"
   ]
  },
  {
   "cell_type": "code",
   "execution_count": null,
   "metadata": {},
   "outputs": [
    {
     "name": "stdout",
     "output_type": "stream",
     "text": [
      "hello\n",
      "deep\n"
     ]
    }
   ],
   "source": [
    "class Sample:\n",
    "    a = 'deep'\n",
    "\n",
    "obj = Sample()\n",
    "obj.a ='hello'\n",
    "print(obj.a)\n",
    "print(Sample.a)\n",
    "\n"
   ]
  },
  {
   "cell_type": "code",
   "execution_count": null,
   "metadata": {},
   "outputs": [
    {
     "name": "stdout",
     "output_type": "stream",
     "text": [
      "deep, you are selected in  the Tesla company.\n"
     ]
    }
   ],
   "source": [
    "class User:\n",
    "    company='Tesla'\n",
    "    @staticmethod\n",
    "    def data(start,name):\n",
    "        print(f'{name}, {start} in  the Tesla company.')\n",
    "    \n",
    "deep=User()\n",
    "deep.data('you are selected','deep')"
   ]
  },
  {
   "cell_type": "code",
   "execution_count": null,
   "metadata": {},
   "outputs": [
    {
     "name": "stdout",
     "output_type": "stream",
     "text": [
      "the name of the train is saurashtra exp\n",
      "the seat availabel in the train is : 50\n",
      "your ticket has been booked , your seat number is 50\n",
      "the price of the ticket is : 240\n",
      "the name of the train is saurashtra exp\n",
      "the seat availabel in the train is : 49\n"
     ]
    }
   ],
   "source": [
    "#__init__ constructor usin more function \n",
    "class Treain:\n",
    "    def __init__(self,name,seats,fare):\n",
    "        self.name = name\n",
    "        self.seats= seats\n",
    "        self.fare = fare\n",
    "    def detStatus(self):\n",
    "        print(f'the name of the train is {self.name}')\n",
    "        print(f'the seat availabel in the train is : {self.seats}')\n",
    "\n",
    "    def info(self):\n",
    "        print(f\"the price of the ticket is : {self.fare}\")\n",
    "\n",
    "    def bookTicket(self):\n",
    "        if self.seats>0:\n",
    "            print(f'your ticket has been booked , your seat number is {self.seats}')\n",
    "            self.seats = self.seats -1\n",
    "        else:\n",
    "            print(f'sorry , this train is full')\n",
    "\n",
    "rail=Treain('saurashtra exp',50,240)\n",
    "rail.detStatus()\n",
    "rail.bookTicket()\n",
    "rail.info()\n",
    "rail.detStatus()\n"
   ]
  },
  {
   "cell_type": "code",
   "execution_count": null,
   "metadata": {},
   "outputs": [
    {
     "name": "stdout",
     "output_type": "stream",
     "text": [
      "DEEP \n",
      "deep\n"
     ]
    }
   ],
   "source": [
    "class Ex:\n",
    "    name='deep'\n",
    "    def __init__(self,name):\n",
    "        print(f'{name} ')\n",
    "a=Ex('DEEP')\n",
    "print(a.name)"
   ]
  },
  {
   "cell_type": "code",
   "execution_count": null,
   "metadata": {},
   "outputs": [
    {
     "name": "stdout",
     "output_type": "stream",
     "text": [
      "this is a company of google\n",
      "this is a company of google\n",
      "google\n"
     ]
    }
   ],
   "source": [
    "#single inheritance\n",
    "class Employee:\n",
    "    company='google'\n",
    "    def showDetail(self):\n",
    "        print('this is a company of google')\n",
    "\n",
    "class Programer(Employee): # cont from class Employee\n",
    "    language ='python'\n",
    "    def getLanguage(self):\n",
    "        print('the language is python')\n",
    "\n",
    "a = Employee()\n",
    "b = Programer()\n",
    "a.showDetail()\n",
    "b.showDetail()\n",
    "print(b.company)\n"
   ]
  },
  {
   "cell_type": "code",
   "execution_count": null,
   "metadata": {},
   "outputs": [
    {
     "name": "stdout",
     "output_type": "stream",
     "text": [
      "amazon\n",
      "5\n"
     ]
    }
   ],
   "source": [
    "#multiple inheritance\n",
    "class Freelancer:\n",
    "    company = 'youtub'\n",
    "    lavel   = 4\n",
    "    \n",
    "    def upDate(self):\n",
    "        self.lavel = self.lavel + 1\n",
    "\n",
    "class Employee:\n",
    "    company = 'amazon'\n",
    "    experience = '10 years'\n",
    "\n",
    "class Programmer(Employee,Freelancer): #inherita in programmer class.\n",
    "    name = 'deep'\n",
    "    number = 9824427033\n",
    "\n",
    "p = Programmer()\n",
    "print(p.company) # print from the first inheritance company\n",
    "p.upDate() \n",
    "print(p.lavel)"
   ]
  },
  {
   "cell_type": "code",
   "execution_count": null,
   "metadata": {},
   "outputs": [
    {
     "name": "stdout",
     "output_type": "stream",
     "text": [
      "22 hacter farm\n"
     ]
    }
   ],
   "source": [
    "#multilevel inheritance\n",
    "class Grandpa:\n",
    "    business = '12 hacter farm'\n",
    "    surname = 'detroja'\n",
    "\n",
    "class Father(Grandpa):\n",
    "    business = '22 hacter farm'\n",
    "    company= 'uma trading'\n",
    "\n",
    "class Me(Father):\n",
    "    college = 'sunshin'\n",
    "    age = 21\n",
    "\n",
    "g = Grandpa()\n",
    "f = Father()\n",
    "m = Me()\n",
    "print(m.business)\n"
   ]
  },
  {
   "cell_type": "code",
   "execution_count": null,
   "metadata": {},
   "outputs": [
    {
     "name": "stdout",
     "output_type": "stream",
     "text": [
      "puma makeing a shoes.\n",
      "deep workeing puma company and id is 123766. \n",
      "kohli is brand ambassador of puma.\n"
     ]
    }
   ],
   "source": [
    "#super() methode\n",
    "class Brand:\n",
    "    company='puma'\n",
    "    def detail(self):\n",
    "        print(f'{self.company} makeing a shoes.') # 3.print\n",
    "\n",
    "class Employee(Brand):\n",
    "    name='deep'\n",
    "    id = 123766\n",
    "    def detail(self):\n",
    "        super().detail() #2.super methode class Brand detail\n",
    "        print(f'{self.name} workeing {self.company} company and id is {self.id}. ') # 4.print\n",
    "\n",
    "class Ambassador(Employee):\n",
    "    model = 'kohli'\n",
    "    def detail(self):\n",
    "        super().detail() #1. super methode call Employee detail a\n",
    "        print(f'{self.model} is brand ambassador of {self.company}.') # 5.print\n",
    "\n",
    "b= Brand()\n",
    "e= Employee()\n",
    "a= Ambassador()\n",
    "a.detail()"
   ]
  },
  {
   "cell_type": "code",
   "execution_count": null,
   "metadata": {},
   "outputs": [
    {
     "name": "stdout",
     "output_type": "stream",
     "text": [
      "HP makeing laptop\n",
      "deep is user of HP\n",
      "leval code creat\n"
     ]
    }
   ],
   "source": [
    "#super() with __init__()\n",
    "\n",
    "class Em:\n",
    "    company='HP'\n",
    "    def __init__(self): # 3. except  the call and print\n",
    "        print('HP makeing laptop')  # 4. print \n",
    "    \n",
    "    def data(self):\n",
    "        print('this is HP company')\n",
    "\n",
    "\n",
    "class User(Em):\n",
    "    name='Deep'\n",
    "    def __init__(self):\n",
    "        super().__init__() # 2. call Em constructor\n",
    "        print('deep is user of HP') # 5.print\n",
    "    \n",
    "    def data(self):\n",
    "        print('hello, a am Deep')\n",
    "\n",
    "\n",
    "class Leval(User):\n",
    "    code=3.433\n",
    "    def __init__(self):\n",
    "        super().__init__() # 1. call User constructor\n",
    "        print('leval code creat')  # 6.print\n",
    "    \n",
    "    def data(self):\n",
    "        #super().data()\n",
    "        print('this is code ')\n",
    "\n",
    "l=Leval()\n",
    "#l.data()"
   ]
  },
  {
   "cell_type": "code",
   "execution_count": null,
   "metadata": {},
   "outputs": [
    {
     "name": "stdout",
     "output_type": "stream",
     "text": [
      "3\n",
      "4\n"
     ]
    }
   ],
   "source": [
    "# you can change class attributes using @classmethod\n",
    "class Employee:\n",
    "    company='Jaguar'\n",
    "    model  = 3\n",
    "     \n",
    "    #def changeModel(self,mod):\n",
    "    #   self.__class__.model = mod    \" you can change class attributes in this methode\"\n",
    "\n",
    "    @classmethod\n",
    "    def changeModel(cla,mod):\n",
    "        cla.model= mod\n",
    "\n",
    "\n",
    "e =Employee()\n",
    "print(e.model) \n",
    "e.changeModel(4)\n",
    "print(Employee.model)\n"
   ]
  },
  {
   "cell_type": "code",
   "execution_count": 1,
   "metadata": {},
   "outputs": [
    {
     "name": "stdout",
     "output_type": "stream",
     "text": [
      "12500\n",
      "12000\n",
      "3000\n"
     ]
    }
   ],
   "source": [
    "# @property decorators or @setters\n",
    "class Em:\n",
    "    salary=12000\n",
    "    salarybonus=500\n",
    "\n",
    "    @property\n",
    "    def totalSalary(self):\n",
    "        return self.salary+self.salarybonus\n",
    "\n",
    "    @totalSalary.setter\n",
    "    def totalSalary(self,val):\n",
    "        self.salarybonus= val- self.salary\n",
    "\n",
    "e = Em()\n",
    "print(e.totalSalary)\n",
    "e.totalSalary=15000\n",
    "print(e.salary)\n",
    "print(e.salarybonus)"
   ]
  },
  {
   "cell_type": "code",
   "execution_count": 32,
   "metadata": {},
   "outputs": [
    {
     "name": "stdout",
     "output_type": "stream",
     "text": [
      "let's add\n",
      "let's multipy\n",
      "let's sub\n",
      "let's truediv\n",
      "let's truediv\n",
      "(6, 8, 2, 2.0, 2.0)\n"
     ]
    }
   ],
   "source": [
    "class Number:\n",
    "    def __init__(self,num):\n",
    "        self.num = num\n",
    "\n",
    "    def __add__(self,num2):\n",
    "        print(\"let's add\")\n",
    "        return self.num + num2.num\n",
    "    def __mul__(self,num2):\n",
    "        print(\"let's multipy\")\n",
    "        return self.num * num2.num\n",
    "    def __sub__(self,num2):\n",
    "        print(\"let's sub\")\n",
    "        return self.num - num2.num\n",
    "    def __truediv__(self,num2):\n",
    "        print(\"let's truediv\")\n",
    "        return self.num / num2.num\n",
    "    def __floordiv__(self,num2):\n",
    "        print(\"let's floordiv\")\n",
    "        return self.num // num2.num\n",
    "        \n",
    "n1 = Number(4)\n",
    "n2 = Number(2)\n",
    "ope= (n1+n2,n1*n2,n1-n2,n1/n2,n1/n2)\n",
    "print(ope)"
   ]
  },
  {
   "cell_type": "code",
   "execution_count": 43,
   "metadata": {},
   "outputs": [
    {
     "name": "stdout",
     "output_type": "stream",
     "text": [
      "bow bow\n"
     ]
    }
   ],
   "source": [
    "class Animals:\n",
    "    animaltype = 'mammal'\n",
    "\n",
    "class pets:\n",
    "    color = 'white'\n",
    "\n",
    "class Dog:\n",
    "    @staticmethod\n",
    "    def bark():\n",
    "        print('bow bow')\n",
    "d = Dog()\n",
    "d.bark()"
   ]
  },
  {
   "cell_type": "code",
   "execution_count": 48,
   "metadata": {},
   "outputs": [
    {
     "name": "stdout",
     "output_type": "stream",
     "text": [
      "1i + 3k + 5j\n",
      "4i + 2k + 6j\n",
      "3\n"
     ]
    }
   ],
   "source": [
    "class Vector:\n",
    "    def __init__(self,vec):\n",
    "        self.vec = vec\n",
    "\n",
    "    def __str__(self):\n",
    "        return f\"{self.vec[0]}i + {self.vec[1]}k + {self.vec[2]}j\"\n",
    "\n",
    "    def __len__(self):\n",
    "        return len(self.vec)\n",
    "\n",
    "v1 = Vector([1,3,5])\n",
    "v2 = Vector([4,2,6])\n",
    "print(v1)\n",
    "print(v2)\n",
    "print(len(v1))"
   ]
  },
  {
   "cell_type": "code",
   "execution_count": 1,
   "metadata": {},
   "outputs": [
    {
     "name": "stdout",
     "output_type": "stream",
     "text": [
      "you guess wrong! , enter a smaller number\n",
      "you guess wrong! , enter a smaller number\n",
      "you guess wrong! , enter a smaller number\n",
      "you guess wrong! , enter a smaller number\n",
      "you guess wrong!, enter a larger number\n",
      "you guess wrong! , enter a smaller number\n",
      "you guess wrong!, enter a larger number\n",
      "your guess it right\n",
      "you guessed the number in 8 guesses\n"
     ]
    },
    {
     "ename": "FileNotFoundError",
     "evalue": "[Errno 2] No such file or directory: 'game.txt'",
     "output_type": "error",
     "traceback": [
      "\u001b[1;31m---------------------------------------------------------------------------\u001b[0m",
      "\u001b[1;31mFileNotFoundError\u001b[0m                         Traceback (most recent call last)",
      "\u001b[1;32m<ipython-input-1-46a735c9be25>\u001b[0m in \u001b[0;36m<module>\u001b[1;34m\u001b[0m\n\u001b[0;32m     15\u001b[0m \u001b[1;33m\u001b[0m\u001b[0m\n\u001b[0;32m     16\u001b[0m \u001b[0mprint\u001b[0m\u001b[1;33m(\u001b[0m\u001b[1;34mf'you guessed the number in {guesses} guesses'\u001b[0m\u001b[1;33m)\u001b[0m\u001b[1;33m\u001b[0m\u001b[1;33m\u001b[0m\u001b[0m\n\u001b[1;32m---> 17\u001b[1;33m \u001b[1;32mwith\u001b[0m \u001b[0mopen\u001b[0m\u001b[1;33m(\u001b[0m\u001b[1;34m'game.txt'\u001b[0m\u001b[1;33m,\u001b[0m\u001b[1;34m'r'\u001b[0m\u001b[1;33m)\u001b[0m \u001b[1;32mas\u001b[0m \u001b[0mf\u001b[0m\u001b[1;33m:\u001b[0m\u001b[1;33m\u001b[0m\u001b[1;33m\u001b[0m\u001b[0m\n\u001b[0m\u001b[0;32m     18\u001b[0m     \u001b[0mhiscore\u001b[0m \u001b[1;33m=\u001b[0m \u001b[0mint\u001b[0m\u001b[1;33m(\u001b[0m\u001b[0mf\u001b[0m\u001b[1;33m.\u001b[0m\u001b[0mread\u001b[0m\u001b[1;33m(\u001b[0m\u001b[1;33m)\u001b[0m\u001b[1;33m)\u001b[0m\u001b[1;33m\u001b[0m\u001b[1;33m\u001b[0m\u001b[0m\n\u001b[0;32m     19\u001b[0m \u001b[1;33m\u001b[0m\u001b[0m\n",
      "\u001b[1;31mFileNotFoundError\u001b[0m: [Errno 2] No such file or directory: 'game.txt'"
     ]
    }
   ],
   "source": [
    "import random\n",
    "randNumber = random.randint(1,100)\n",
    "userGuess=None\n",
    "guesses=0\n",
    "while(userGuess != randNumber):\n",
    "    userGuess = int(input('guess youer number '))\n",
    "    guesses +=1\n",
    "    if userGuess==randNumber:\n",
    "        print('your guess it right')\n",
    "    else:\n",
    "        if(userGuess>randNumber):\n",
    "            print('you guess wrong! , enter a smaller number')\n",
    "        else:\n",
    "            print('you guess wrong!, enter a larger number')\n",
    "    \n",
    "print(f'you guessed the number in {guesses} guesses')\n",
    "#with open('game.txt','r') as f:\n",
    "#    hiscore = int(f.read())\n",
    "\n",
    "if(guesses<hiscore):\n",
    "    with open('game.txt','w') as f:\n",
    "        f.write(str(guesses))\n",
    "     "
   ]
  }
 ],
 "metadata": {
  "interpreter": {
   "hash": "97db332ab52aa1ecdf2a1be52857e847bf29430af4644ad99016b501cc6888bd"
  },
  "kernelspec": {
   "display_name": "Python 3.7.4 64-bit",
   "language": "python",
   "name": "python3"
  },
  "language_info": {
   "codemirror_mode": {
    "name": "ipython",
    "version": 3
   },
   "file_extension": ".py",
   "mimetype": "text/x-python",
   "name": "python",
   "nbconvert_exporter": "python",
   "pygments_lexer": "ipython3",
   "version": "3.7.4"
  },
  "orig_nbformat": 4
 },
 "nbformat": 4,
 "nbformat_minor": 2
}
