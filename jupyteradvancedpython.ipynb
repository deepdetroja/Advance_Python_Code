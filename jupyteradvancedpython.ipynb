{
 "cells": [
  {
   "cell_type": "code",
   "execution_count": null,
   "metadata": {},
   "outputs": [],
   "source": [
    "# try , except concept\n",
    "while(True):\n",
    "    print('you can exit from \"q\" butten.')\n",
    "    a = input(\"enter a number :\")\n",
    "    if a == 'q':\n",
    "        break\n",
    "    try:\n",
    "        a=int(a)\n",
    "        if a>6:\n",
    "            print('your enter a number gerter than 6')\n",
    "    except Exception as e: # when input a string that time show a strin with error\n",
    "        print(e)\n",
    "print('thank you for playing game')"
   ]
  },
  {
   "cell_type": "code",
   "execution_count": null,
   "metadata": {},
   "outputs": [
    {
     "name": "stdout",
     "output_type": "stream",
     "text": [
      "make sure you are not dividing by 0\n",
      "thank you playing game\n"
     ]
    }
   ],
   "source": [
    "#handling different exception \n",
    "try:\n",
    "    a = int(input('enter a number'))\n",
    "    c = 1/a\n",
    "    print(c)\n",
    "\n",
    "except ZeroDivisionError as e: # do not allow 0 carector\n",
    "    print('make sure you are not dividing by 0')\n",
    "\n",
    "except ValueError as e: # do not allow string caractor\n",
    "    print(f\"please enter a valid value\") \n",
    "\n",
    "except TypeError as e:\n",
    "    print(e)\n",
    "    \n",
    "print('thank you playing game')"
   ]
  },
  {
   "cell_type": "code",
   "execution_count": null,
   "metadata": {},
   "outputs": [],
   "source": [
    "def increment(num):\n",
    "    try:\n",
    "        return int(num) + 1\n",
    "    except:\n",
    "        raise ValueError('this is not good - deep')\n",
    "\n",
    "a=increment(\"df34\")\n",
    "print(a)"
   ]
  },
  {
   "cell_type": "code",
   "execution_count": 4,
   "metadata": {},
   "outputs": [
    {
     "name": "stdout",
     "output_type": "stream",
     "text": [
      "invalid literal for int() with base 10: 'ew3'\n"
     ]
    }
   ],
   "source": [
    "#try with else\n",
    "try:\n",
    "    i=int(input('enter your number :'))\n",
    "    c= i/2\n",
    "    print(c)\n",
    "except Exception as e:\n",
    "    print(e)\n",
    "else:\n",
    "    print(\"we are successful run this cod\")"
   ]
  },
  {
   "cell_type": "code",
   "execution_count": null,
   "metadata": {},
   "outputs": [],
   "source": [
    "#try with finally\n",
    "try:\n",
    "    i=int(input('enter your number :'))\n",
    "    c= i/2\n",
    "    print(c)\n",
    "except Exception as e:\n",
    "    print(e)\n",
    "finally:\n",
    "    print(\"we are don\")"
   ]
  },
  {
   "cell_type": "code",
   "execution_count": null,
   "metadata": {},
   "outputs": [],
   "source": [
    "import phonenumbers\n",
    "from phonenumbers import carriar, geocoder, timezone\n",
    "\n",
    "mobileNo = input('enter your phone number whit countey code:')\n",
    "mobileNo = phonenumbers.parse(mobileNo,\"en\")\n",
    "\n",
    "print(timezone.time_zone_for_number(mobileNo))\n",
    "print(carriar.name_for_number(mobileNo,\"en\"))\n",
    "print(geocoder.descriptin_for_number(mobileNo,\"en\"))\n",
    "\n",
    "print(\"vaild mobil number :\",phonenumbers.is_vaild_number(mobileNo))\n",
    "\n",
    "print(\"checking possibility of number :\", phonenumbers.is_possible_number(mobileNo))"
   ]
  }
 ],
 "metadata": {
  "interpreter": {
   "hash": "4de5e2846478a318c3340463aa62aab86c94ebc9672f4cc0bf298e8b7f706e7c"
  },
  "kernelspec": {
   "display_name": "Python 3.10.0 64-bit",
   "language": "python",
   "name": "python3"
  },
  "language_info": {
   "codemirror_mode": {
    "name": "ipython",
    "version": 3
   },
   "file_extension": ".py",
   "mimetype": "text/x-python",
   "name": "python",
   "nbconvert_exporter": "python",
   "pygments_lexer": "ipython3",
   "version": "3.10.0"
  },
  "orig_nbformat": 4
 },
 "nbformat": 4,
 "nbformat_minor": 2
}
